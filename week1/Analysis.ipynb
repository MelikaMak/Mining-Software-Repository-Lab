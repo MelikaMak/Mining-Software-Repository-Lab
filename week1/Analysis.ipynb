{
 "cells": [
  {
   "cell_type": "code",
   "execution_count": 1,
   "id": "a9ee1e54",
   "metadata": {
    "scrolled": true
   },
   "outputs": [
    {
     "name": "stdout",
     "output_type": "stream",
     "text": [
      "<class 'pandas.core.frame.DataFrame'>\n",
      "RangeIndex: 102730 entries, 0 to 102729\n",
      "Data columns (total 4 columns):\n",
      " #   Column                               Non-Null Count   Dtype \n",
      "---  ------                               --------------   ----- \n",
      " 0   File Name Before Commit              102730 non-null  object\n",
      " 1   Function Name Before commit          102730 non-null  object\n",
      " 2   cyclomatic complexity Before commit  102730 non-null  int64 \n",
      " 3   SATD Comments Before commit          102730 non-null  int64 \n",
      "dtypes: int64(2), object(2)\n",
      "memory usage: 3.1+ MB\n",
      "None\n",
      "<class 'pandas.core.frame.DataFrame'>\n",
      "RangeIndex: 104487 entries, 0 to 104486\n",
      "Data columns (total 7 columns):\n",
      " #   Column                                       Non-Null Count   Dtype \n",
      "---  ------                                       --------------   ----- \n",
      " 0   File Name After Commit                       104487 non-null  object\n",
      " 1   Function Name After commit                   104487 non-null  object\n",
      " 2   cyclomatic complexity After commit           104487 non-null  int64 \n",
      " 3   SATD Comments After commit                   104487 non-null  int64 \n",
      " 4   Commit Massage                               104487 non-null  object\n",
      " 5   Commit Hash                                  104487 non-null  object\n",
      " 6   Commit message consisting of SATD comments?  104487 non-null  int64 \n",
      "dtypes: int64(3), object(4)\n",
      "memory usage: 5.6+ MB\n",
      "None\n"
     ]
    }
   ],
   "source": [
    "# First reading the CSV Files\n",
    "import pandas as pd\n",
    "\n",
    "# Read in the CSV files\n",
    "df_before = pd.read_csv('data_before_commit.csv', encoding='ISO-8859-1')\n",
    "df_after = pd.read_csv('data_after_commit.csv', encoding='ISO-8859-1')\n",
    "print(df_before.info())\n",
    "print(df_after.info())"
   ]
  },
  {
   "cell_type": "code",
   "execution_count": 8,
   "id": "b8da20da",
   "metadata": {},
   "outputs": [
    {
     "name": "stdout",
     "output_type": "stream",
     "text": [
      "<class 'pandas.core.frame.DataFrame'>\n",
      "Int64Index: 102383 entries, 0 to 18830575\n",
      "Data columns (total 8 columns):\n",
      " #   Column                                       Non-Null Count   Dtype \n",
      "---  ------                                       --------------   ----- \n",
      " 0   Function Name                                102383 non-null  object\n",
      " 1   cyclomatic complexity Before commit          102383 non-null  int64 \n",
      " 2   SATD Comments Before commit                  102383 non-null  int64 \n",
      " 3   cyclomatic complexity After commit           102383 non-null  int64 \n",
      " 4   SATD Comments After commit                   102383 non-null  int64 \n",
      " 5   Commit Massage                               102383 non-null  object\n",
      " 6   Commit Hash                                  102383 non-null  object\n",
      " 7   Commit message consisting of SATD comments?  102383 non-null  int64 \n",
      "dtypes: int64(5), object(3)\n",
      "memory usage: 7.0+ MB\n",
      "None\n"
     ]
    }
   ],
   "source": [
    "# Merging the CSV files\n",
    "\n",
    "# read in the data_before_commit.csv and data_after_commit.csv files\n",
    "df_before = pd.read_csv('data_before_commit.csv', encoding='ISO-8859-1')\n",
    "df_after = pd.read_csv('data_after_commit.csv', encoding='ISO-8859-1')\n",
    "\n",
    "# merge the two dataframes on the 'Function Name Before commit' and 'Function Name After commit' columns\n",
    "df_merged = pd.merge(df_before, df_after, left_on='Function Name Before commit', right_on='Function Name After commit', how='inner')\n",
    "\n",
    "# rename the 'Function Name Before commit' column to 'Function Name'\n",
    "df_merged = df_merged.rename(columns={'Function Name Before commit': 'Function Name'})\n",
    "\n",
    "# select only the desired columns in the final output dataframe\n",
    "df_final = df_merged[['Function Name', 'cyclomatic complexity Before commit', 'SATD Comments Before commit', 'cyclomatic complexity After commit', 'SATD Comments After commit', 'Commit Massage', 'Commit Hash', 'Commit message consisting of SATD comments?']]\n",
    "df_final = df_final.drop_duplicates()\n",
    "# write the merged data to a new CSV file\n",
    "df_final.to_csv('merged_data_1.csv', index=False)\n",
    "print(df_final.info())"
   ]
  },
  {
   "cell_type": "code",
   "execution_count": 9,
   "id": "532ed60b",
   "metadata": {},
   "outputs": [
    {
     "data": {
      "text/html": [
       "<div>\n",
       "<style scoped>\n",
       "    .dataframe tbody tr th:only-of-type {\n",
       "        vertical-align: middle;\n",
       "    }\n",
       "\n",
       "    .dataframe tbody tr th {\n",
       "        vertical-align: top;\n",
       "    }\n",
       "\n",
       "    .dataframe thead th {\n",
       "        text-align: right;\n",
       "    }\n",
       "</style>\n",
       "<table border=\"1\" class=\"dataframe\">\n",
       "  <thead>\n",
       "    <tr style=\"text-align: right;\">\n",
       "      <th></th>\n",
       "      <th>Function Name</th>\n",
       "      <th>cyclomatic complexity Before commit</th>\n",
       "      <th>SATD Comments Before commit</th>\n",
       "      <th>cyclomatic complexity After commit</th>\n",
       "      <th>SATD Comments After commit</th>\n",
       "      <th>Commit Massage</th>\n",
       "      <th>Commit Hash</th>\n",
       "      <th>Commit message consisting of SATD comments?</th>\n",
       "    </tr>\n",
       "  </thead>\n",
       "  <tbody>\n",
       "    <tr>\n",
       "      <th>0</th>\n",
       "      <td>OS2FTPEntryParser::OS2FTPEntryParser</td>\n",
       "      <td>1</td>\n",
       "      <td>0</td>\n",
       "      <td>1</td>\n",
       "      <td>0</td>\n",
       "      <td>Move to Maven 2 structure\\n\\ngit-svn-id: https...</td>\n",
       "      <td>5227bde621879b1ea0c845bf134efa44dffb353b</td>\n",
       "      <td>0</td>\n",
       "    </tr>\n",
       "    <tr>\n",
       "      <th>2</th>\n",
       "      <td>OS2FTPEntryParser::OS2FTPEntryParser</td>\n",
       "      <td>1</td>\n",
       "      <td>0</td>\n",
       "      <td>1</td>\n",
       "      <td>0</td>\n",
       "      <td>Modified regex\\n\\ngit-svn-id: https://svn.apac...</td>\n",
       "      <td>9803d74b6728d1f7141906dae1ed724d478dee8c</td>\n",
       "      <td>0</td>\n",
       "    </tr>\n",
       "    <tr>\n",
       "      <th>4</th>\n",
       "      <td>OS2FTPEntryParser::OS2FTPEntryParser</td>\n",
       "      <td>1</td>\n",
       "      <td>0</td>\n",
       "      <td>1</td>\n",
       "      <td>0</td>\n",
       "      <td>Update copyright dates\\n\\ngit-svn-id: https://...</td>\n",
       "      <td>8856eebbbcbadf6fad9a84c6ea7995dcbcb7de8c</td>\n",
       "      <td>0</td>\n",
       "    </tr>\n",
       "    <tr>\n",
       "      <th>6</th>\n",
       "      <td>OS2FTPEntryParser::OS2FTPEntryParser</td>\n",
       "      <td>1</td>\n",
       "      <td>0</td>\n",
       "      <td>1</td>\n",
       "      <td>0</td>\n",
       "      <td>Update license headers to the correct version....</td>\n",
       "      <td>d51dd813f96e7b172059d3f0a956123b3858c710</td>\n",
       "      <td>0</td>\n",
       "    </tr>\n",
       "    <tr>\n",
       "      <th>8</th>\n",
       "      <td>OS2FTPEntryParser::OS2FTPEntryParser</td>\n",
       "      <td>1</td>\n",
       "      <td>0</td>\n",
       "      <td>1</td>\n",
       "      <td>0</td>\n",
       "      <td>Add Override markers\\n\\ngit-svn-id: https://sv...</td>\n",
       "      <td>1bc6c41d13349f1d21125a3e36bc04f2b19f0532</td>\n",
       "      <td>0</td>\n",
       "    </tr>\n",
       "  </tbody>\n",
       "</table>\n",
       "</div>"
      ],
      "text/plain": [
       "                          Function Name  cyclomatic complexity Before commit  \\\n",
       "0  OS2FTPEntryParser::OS2FTPEntryParser                                    1   \n",
       "2  OS2FTPEntryParser::OS2FTPEntryParser                                    1   \n",
       "4  OS2FTPEntryParser::OS2FTPEntryParser                                    1   \n",
       "6  OS2FTPEntryParser::OS2FTPEntryParser                                    1   \n",
       "8  OS2FTPEntryParser::OS2FTPEntryParser                                    1   \n",
       "\n",
       "   SATD Comments Before commit  cyclomatic complexity After commit  \\\n",
       "0                            0                                   1   \n",
       "2                            0                                   1   \n",
       "4                            0                                   1   \n",
       "6                            0                                   1   \n",
       "8                            0                                   1   \n",
       "\n",
       "   SATD Comments After commit  \\\n",
       "0                           0   \n",
       "2                           0   \n",
       "4                           0   \n",
       "6                           0   \n",
       "8                           0   \n",
       "\n",
       "                                      Commit Massage  \\\n",
       "0  Move to Maven 2 structure\\n\\ngit-svn-id: https...   \n",
       "2  Modified regex\\n\\ngit-svn-id: https://svn.apac...   \n",
       "4  Update copyright dates\\n\\ngit-svn-id: https://...   \n",
       "6  Update license headers to the correct version....   \n",
       "8  Add Override markers\\n\\ngit-svn-id: https://sv...   \n",
       "\n",
       "                                Commit Hash  \\\n",
       "0  5227bde621879b1ea0c845bf134efa44dffb353b   \n",
       "2  9803d74b6728d1f7141906dae1ed724d478dee8c   \n",
       "4  8856eebbbcbadf6fad9a84c6ea7995dcbcb7de8c   \n",
       "6  d51dd813f96e7b172059d3f0a956123b3858c710   \n",
       "8  1bc6c41d13349f1d21125a3e36bc04f2b19f0532   \n",
       "\n",
       "   Commit message consisting of SATD comments?  \n",
       "0                                            0  \n",
       "2                                            0  \n",
       "4                                            0  \n",
       "6                                            0  \n",
       "8                                            0  "
      ]
     },
     "execution_count": 9,
     "metadata": {},
     "output_type": "execute_result"
    }
   ],
   "source": [
    "df_final.head()\n"
   ]
  },
  {
   "cell_type": "code",
   "execution_count": 17,
   "id": "b5d5eb33",
   "metadata": {},
   "outputs": [
    {
     "data": {
      "text/html": [
       "<div>\n",
       "<style scoped>\n",
       "    .dataframe tbody tr th:only-of-type {\n",
       "        vertical-align: middle;\n",
       "    }\n",
       "\n",
       "    .dataframe tbody tr th {\n",
       "        vertical-align: top;\n",
       "    }\n",
       "\n",
       "    .dataframe thead th {\n",
       "        text-align: right;\n",
       "    }\n",
       "</style>\n",
       "<table border=\"1\" class=\"dataframe\">\n",
       "  <thead>\n",
       "    <tr style=\"text-align: right;\">\n",
       "      <th></th>\n",
       "      <th>Function Name</th>\n",
       "      <th>cyclomatic complexity Before commit</th>\n",
       "      <th>SATD Comments Before commit</th>\n",
       "      <th>cyclomatic complexity After commit</th>\n",
       "      <th>SATD Comments After commit</th>\n",
       "      <th>Commit Massage</th>\n",
       "      <th>Commit Hash</th>\n",
       "      <th>Commit message consisting of SATD comments?</th>\n",
       "    </tr>\n",
       "  </thead>\n",
       "  <tbody>\n",
       "  </tbody>\n",
       "</table>\n",
       "</div>"
      ],
      "text/plain": [
       "Empty DataFrame\n",
       "Columns: [Function Name, cyclomatic complexity Before commit, SATD Comments Before commit, cyclomatic complexity After commit, SATD Comments After commit, Commit Massage, Commit Hash, Commit message consisting of SATD comments?]\n",
       "Index: []"
      ]
     },
     "execution_count": 17,
     "metadata": {},
     "output_type": "execute_result"
    }
   ],
   "source": [
    "# For RQ1 compare the complexity change in file changes where the number of SATD\n",
    "# comments in the file increases with changes where that is not the case.\n",
    "df_compare_comments = df_final[df_final['SATD Comments After commit'] >  df_final['SATD Comments Before commit']]\n",
    "df_compare_comments.head()"
   ]
  },
  {
   "cell_type": "code",
   "execution_count": 18,
   "id": "4c8bf5ec",
   "metadata": {},
   "outputs": [
    {
     "data": {
      "text/plain": [
       "0"
      ]
     },
     "execution_count": 18,
     "metadata": {},
     "output_type": "execute_result"
    }
   ],
   "source": [
    "df_compare_comments.shape[0]"
   ]
  },
  {
   "cell_type": "code",
   "execution_count": 19,
   "id": "b3043090",
   "metadata": {},
   "outputs": [
    {
     "name": "stdout",
     "output_type": "stream",
     "text": [
      "64\n"
     ]
    }
   ],
   "source": [
    "de_sum_of_satd_comments_before_commit = df_final['SATD Comments Before commit'].sum()\n",
    "print(de_sum_of_satd_comments_before_commit)"
   ]
  },
  {
   "cell_type": "code",
   "execution_count": 20,
   "id": "c5a6f2e2",
   "metadata": {},
   "outputs": [
    {
     "name": "stdout",
     "output_type": "stream",
     "text": [
      "64\n"
     ]
    }
   ],
   "source": [
    "de_sum_of_satd_comments_after_commit = df_final['SATD Comments After commit'].sum()\n",
    "print(de_sum_of_satd_comments_after_commit)"
   ]
  },
  {
   "cell_type": "code",
   "execution_count": 21,
   "id": "3dd07e6a",
   "metadata": {},
   "outputs": [
    {
     "data": {
      "text/plain": [
       "6202"
      ]
     },
     "execution_count": 21,
     "metadata": {},
     "output_type": "execute_result"
    }
   ],
   "source": [
    "# Number of the functions where Cyclomatic Complexity increased after commit the: \n",
    "df_changed_complexity = df_final[df_final['cyclomatic complexity After commit'] > df_final['cyclomatic complexity Before commit']]\n",
    "df_changed_complexity.shape[0]"
   ]
  },
  {
   "cell_type": "code",
   "execution_count": 22,
   "id": "de45b716",
   "metadata": {},
   "outputs": [
    {
     "data": {
      "text/html": [
       "<div>\n",
       "<style scoped>\n",
       "    .dataframe tbody tr th:only-of-type {\n",
       "        vertical-align: middle;\n",
       "    }\n",
       "\n",
       "    .dataframe tbody tr th {\n",
       "        vertical-align: top;\n",
       "    }\n",
       "\n",
       "    .dataframe thead th {\n",
       "        text-align: right;\n",
       "    }\n",
       "</style>\n",
       "<table border=\"1\" class=\"dataframe\">\n",
       "  <thead>\n",
       "    <tr style=\"text-align: right;\">\n",
       "      <th></th>\n",
       "      <th>Function Name</th>\n",
       "      <th>cyclomatic complexity Before commit</th>\n",
       "      <th>SATD Comments Before commit</th>\n",
       "      <th>cyclomatic complexity After commit</th>\n",
       "      <th>SATD Comments After commit</th>\n",
       "      <th>Commit Massage</th>\n",
       "      <th>Commit Hash</th>\n",
       "      <th>Commit message consisting of SATD comments?</th>\n",
       "    </tr>\n",
       "  </thead>\n",
       "  <tbody>\n",
       "    <tr>\n",
       "      <th>2777</th>\n",
       "      <td>FTPSClient::FTPSClient</td>\n",
       "      <td>1</td>\n",
       "      <td>0</td>\n",
       "      <td>2</td>\n",
       "      <td>0</td>\n",
       "      <td>Move to Maven 2 structure\\n\\ngit-svn-id: https...</td>\n",
       "      <td>5227bde621879b1ea0c845bf134efa44dffb353b</td>\n",
       "      <td>0</td>\n",
       "    </tr>\n",
       "    <tr>\n",
       "      <th>2783</th>\n",
       "      <td>FTPSClient::FTPSClient</td>\n",
       "      <td>1</td>\n",
       "      <td>0</td>\n",
       "      <td>2</td>\n",
       "      <td>0</td>\n",
       "      <td>git-svn-id: https://svn.apache.org/repos/asf/j...</td>\n",
       "      <td>dcea3bb4343dcf1b818fd7412ea0adefa30ebbf5</td>\n",
       "      <td>0</td>\n",
       "    </tr>\n",
       "    <tr>\n",
       "      <th>2789</th>\n",
       "      <td>FTPSClient::FTPSClient</td>\n",
       "      <td>1</td>\n",
       "      <td>0</td>\n",
       "      <td>2</td>\n",
       "      <td>0</td>\n",
       "      <td>Added FTPS example from José's submission and ...</td>\n",
       "      <td>4c0cbe1369d3246d53c2b27ec799a67664a982c6</td>\n",
       "      <td>0</td>\n",
       "    </tr>\n",
       "    <tr>\n",
       "      <th>2795</th>\n",
       "      <td>FTPSClient::FTPSClient</td>\n",
       "      <td>1</td>\n",
       "      <td>0</td>\n",
       "      <td>2</td>\n",
       "      <td>0</td>\n",
       "      <td>Update copyright dates\\n\\ngit-svn-id: https://...</td>\n",
       "      <td>8856eebbbcbadf6fad9a84c6ea7995dcbcb7de8c</td>\n",
       "      <td>0</td>\n",
       "    </tr>\n",
       "    <tr>\n",
       "      <th>2801</th>\n",
       "      <td>FTPSClient::FTPSClient</td>\n",
       "      <td>1</td>\n",
       "      <td>0</td>\n",
       "      <td>2</td>\n",
       "      <td>0</td>\n",
       "      <td>Added FTPS impl based on submission inb https:...</td>\n",
       "      <td>2f6cce0a9de948b6b59c0dab22ee4b58c809fe6c</td>\n",
       "      <td>0</td>\n",
       "    </tr>\n",
       "  </tbody>\n",
       "</table>\n",
       "</div>"
      ],
      "text/plain": [
       "               Function Name  cyclomatic complexity Before commit  \\\n",
       "2777  FTPSClient::FTPSClient                                    1   \n",
       "2783  FTPSClient::FTPSClient                                    1   \n",
       "2789  FTPSClient::FTPSClient                                    1   \n",
       "2795  FTPSClient::FTPSClient                                    1   \n",
       "2801  FTPSClient::FTPSClient                                    1   \n",
       "\n",
       "      SATD Comments Before commit  cyclomatic complexity After commit  \\\n",
       "2777                            0                                   2   \n",
       "2783                            0                                   2   \n",
       "2789                            0                                   2   \n",
       "2795                            0                                   2   \n",
       "2801                            0                                   2   \n",
       "\n",
       "      SATD Comments After commit  \\\n",
       "2777                           0   \n",
       "2783                           0   \n",
       "2789                           0   \n",
       "2795                           0   \n",
       "2801                           0   \n",
       "\n",
       "                                         Commit Massage  \\\n",
       "2777  Move to Maven 2 structure\\n\\ngit-svn-id: https...   \n",
       "2783  git-svn-id: https://svn.apache.org/repos/asf/j...   \n",
       "2789  Added FTPS example from José's submission and ...   \n",
       "2795  Update copyright dates\\n\\ngit-svn-id: https://...   \n",
       "2801  Added FTPS impl based on submission inb https:...   \n",
       "\n",
       "                                   Commit Hash  \\\n",
       "2777  5227bde621879b1ea0c845bf134efa44dffb353b   \n",
       "2783  dcea3bb4343dcf1b818fd7412ea0adefa30ebbf5   \n",
       "2789  4c0cbe1369d3246d53c2b27ec799a67664a982c6   \n",
       "2795  8856eebbbcbadf6fad9a84c6ea7995dcbcb7de8c   \n",
       "2801  2f6cce0a9de948b6b59c0dab22ee4b58c809fe6c   \n",
       "\n",
       "      Commit message consisting of SATD comments?  \n",
       "2777                                            0  \n",
       "2783                                            0  \n",
       "2789                                            0  \n",
       "2795                                            0  \n",
       "2801                                            0  "
      ]
     },
     "execution_count": 22,
     "metadata": {},
     "output_type": "execute_result"
    }
   ],
   "source": [
    "df_changed_complexity.head()"
   ]
  },
  {
   "cell_type": "code",
   "execution_count": 23,
   "id": "bda9f049",
   "metadata": {},
   "outputs": [
    {
     "data": {
      "text/plain": [
       "1"
      ]
     },
     "execution_count": 23,
     "metadata": {},
     "output_type": "execute_result"
    }
   ],
   "source": [
    "# How many of them does consist of SATF comments in commit messages? ****** only 1 ******\n",
    "effect_of_satd_comments = df_changed_complexity[df_changed_complexity['Commit message consisting of SATD comments?'] == 1 ]\n",
    "effect_of_satd_comments.shape[0]"
   ]
  },
  {
   "cell_type": "code",
   "execution_count": null,
   "id": "e24a5c2d",
   "metadata": {},
   "outputs": [],
   "source": [
    "# compare cyclomatic complexity Before and after commit using box plot in jupyter notebook\n",
    "import matplotlib.pyplot as plt\n",
    "\n",
    "# group the data by 'Function Name'\n",
    "grouped = df_final.groupby('Function Name')\n",
    "\n",
    "# create a box plot of the cyclomatic complexity before and after the commit for each function\n",
    "grouped[['cyclomatic complexity Before commit', 'cyclomatic complexity After commit']].boxplot()\n",
    "\n",
    "# set the x-axis label\n",
    "plt.xlabel('Cyclomatic Complexity')\n",
    "\n",
    "# set the y-axis label\n",
    "plt.ylabel('Function Name')\n",
    "\n",
    "# set the title of the plot\n",
    "plt.title('Cyclomatic Complexity Before and After Commit')\n",
    "\n",
    "# show the plot\n",
    "plt.show()"
   ]
  },
  {
   "cell_type": "code",
   "execution_count": null,
   "id": "39f33b66",
   "metadata": {},
   "outputs": [],
   "source": [
    "import matplotlib.pyplot as plt\n",
    "\n",
    "\n",
    "\n",
    "cc_data = df_final[['cyclomatic complexity Before commit', 'cyclomatic complexity After commit']]\n",
    "\n",
    "cc_data.boxplot(column=['cyclomatic complexity Before commit', 'cyclomatic complexity After commit'])\n",
    "\n",
    "\n",
    "plt.show()"
   ]
  },
  {
   "cell_type": "code",
   "execution_count": null,
   "id": "4b55efa8",
   "metadata": {},
   "outputs": [],
   "source": [
    "df_changed_complexity.head()\n"
   ]
  },
  {
   "cell_type": "code",
   "execution_count": null,
   "id": "bd44b4f3",
   "metadata": {},
   "outputs": [],
   "source": []
  },
  {
   "cell_type": "code",
   "execution_count": null,
   "id": "7fceca6b",
   "metadata": {},
   "outputs": [],
   "source": [
    "import matplotlib.pyplot as plt\n",
    "\n",
    "\n",
    "\n",
    "cc_data = df_changed_complexity[['cyclomatic complexity Before commit', 'cyclomatic complexity After commit']]\n",
    "\n",
    "cc_data.boxplot(column=['cyclomatic complexity Before commit', 'cyclomatic complexity After commit'])\n",
    "\n",
    "\n",
    "plt.show()"
   ]
  },
  {
   "cell_type": "code",
   "execution_count": null,
   "id": "f1ac358a",
   "metadata": {},
   "outputs": [],
   "source": [
    "df_changed_complexity.shape[0]"
   ]
  },
  {
   "cell_type": "code",
   "execution_count": null,
   "id": "7fb3bf0c",
   "metadata": {},
   "outputs": [],
   "source": [
    "df_satd_commit = df_changed_complexity[df_changed_complexity['Commit message consisting of SATD comments?'] == 1]"
   ]
  },
  {
   "cell_type": "code",
   "execution_count": null,
   "id": "6ce0830a",
   "metadata": {},
   "outputs": [],
   "source": [
    "df_satd_commit.head()\n"
   ]
  },
  {
   "cell_type": "code",
   "execution_count": null,
   "id": "3ac8c606",
   "metadata": {},
   "outputs": [],
   "source": [
    "df_satd_commit.shape[0]"
   ]
  },
  {
   "cell_type": "code",
   "execution_count": null,
   "id": "67b4d5c2",
   "metadata": {},
   "outputs": [],
   "source": [
    "import matplotlib.pyplot as plt\n",
    "\n",
    "\n",
    "\n",
    "cc_data = df_satd_commit[['cyclomatic complexity Before commit', 'cyclomatic complexity After commit']]\n",
    "\n",
    "cc_data.boxplot(column=['cyclomatic complexity Before commit', 'cyclomatic complexity After commit'])\n",
    "\n",
    "\n",
    "plt.show()"
   ]
  },
  {
   "cell_type": "code",
   "execution_count": null,
   "id": "b05220fe",
   "metadata": {},
   "outputs": [],
   "source": [
    "import matplotlib.pyplot as plt\n",
    "\n",
    "\n",
    "\n",
    "cc_data = df_changed_complexity[['cyclomatic complexity Before commit', 'cyclomatic complexity After commit']]\n",
    "\n",
    "cc_data.boxplot(column=['cyclomatic complexity Before commit', 'cyclomatic complexity After commit'])\n",
    "\n",
    "\n",
    "plt.show()"
   ]
  }
 ],
 "metadata": {
  "kernelspec": {
   "display_name": "Python 3 (ipykernel)",
   "language": "python",
   "name": "python3"
  },
  "language_info": {
   "codemirror_mode": {
    "name": "ipython",
    "version": 3
   },
   "file_extension": ".py",
   "mimetype": "text/x-python",
   "name": "python",
   "nbconvert_exporter": "python",
   "pygments_lexer": "ipython3",
   "version": "3.10.4"
  }
 },
 "nbformat": 4,
 "nbformat_minor": 5
}
