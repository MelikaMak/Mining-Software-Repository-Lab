{
 "cells": [
  {
   "cell_type": "code",
   "execution_count": 26,
   "id": "aece1395",
   "metadata": {},
   "outputs": [],
   "source": [
    "# Code by Melika and Milad"
   ]
  },
  {
   "cell_type": "code",
   "execution_count": 17,
   "id": "2af31dfe",
   "metadata": {},
   "outputs": [],
   "source": [
    "import pandas as pd"
   ]
  },
  {
   "cell_type": "code",
   "execution_count": 18,
   "id": "c1f45904",
   "metadata": {},
   "outputs": [],
   "source": [
    "df_commons_configuration = pd.read_csv('commons-configuration-comment-label.csv')\n",
    "df_commons_lang = pd.read_csv('commons-lang-comment-label.csv')\n",
    "#df_commons_lang.dropna(inplace=True)\n",
    "df_commons_math = pd.read_csv('commons-math-comment-label.csv')\n",
    "#df_commons_math.dropna(inplace=True)"
   ]
  },
  {
   "cell_type": "code",
   "execution_count": 19,
   "id": "825ad413",
   "metadata": {},
   "outputs": [],
   "source": [
    "#df_commons_configuration.dropna(inplace=True)\n",
    "#df_commons_configuration.dropna(inplace=True)\n",
    "#df_commons_configuration.shape[0]"
   ]
  },
  {
   "cell_type": "code",
   "execution_count": 20,
   "id": "dace70d3",
   "metadata": {},
   "outputs": [
    {
     "data": {
      "text/html": [
       "<div>\n",
       "<style scoped>\n",
       "    .dataframe tbody tr th:only-of-type {\n",
       "        vertical-align: middle;\n",
       "    }\n",
       "\n",
       "    .dataframe tbody tr th {\n",
       "        vertical-align: top;\n",
       "    }\n",
       "\n",
       "    .dataframe thead th {\n",
       "        text-align: right;\n",
       "    }\n",
       "</style>\n",
       "<table border=\"1\" class=\"dataframe\">\n",
       "  <thead>\n",
       "    <tr style=\"text-align: right;\">\n",
       "      <th></th>\n",
       "      <th>Pull Request Number</th>\n",
       "      <th>Label by Melika</th>\n",
       "      <th>Label by Milad</th>\n",
       "      <th>Title</th>\n",
       "      <th>Comment Messages</th>\n",
       "      <th>Merged</th>\n",
       "      <th>Time to Merge</th>\n",
       "      <th>Comments</th>\n",
       "      <th>Review Comments</th>\n",
       "      <th>Review Messages</th>\n",
       "      <th>Lines of Code Changed</th>\n",
       "    </tr>\n",
       "  </thead>\n",
       "  <tbody>\n",
       "    <tr>\n",
       "      <th>0</th>\n",
       "      <td>230.0</td>\n",
       "      <td>Performance issues</td>\n",
       "      <td>Code style problems</td>\n",
       "      <td>MATH-1654: optimize Array2DRowRealMatrix getEntry</td>\n",
       "      <td>[]</td>\n",
       "      <td>Yes</td>\n",
       "      <td>1 day, 2:46:51</td>\n",
       "      <td>0.0</td>\n",
       "      <td>0.0</td>\n",
       "      <td>[]</td>\n",
       "      <td>10.0</td>\n",
       "    </tr>\n",
       "    <tr>\n",
       "      <th>1</th>\n",
       "      <td>229.0</td>\n",
       "      <td>Security issues</td>\n",
       "      <td>Security issues</td>\n",
       "      <td>Updated copyright to 2023</td>\n",
       "      <td>[]</td>\n",
       "      <td>No</td>\n",
       "      <td>NaN</td>\n",
       "      <td>0.0</td>\n",
       "      <td>0.0</td>\n",
       "      <td>[]</td>\n",
       "      <td>2.0</td>\n",
       "    </tr>\n",
       "    <tr>\n",
       "      <th>2</th>\n",
       "      <td>228.0</td>\n",
       "      <td>Code style problems</td>\n",
       "      <td>Code style problems</td>\n",
       "      <td>[docs]: fix small error</td>\n",
       "      <td>[]</td>\n",
       "      <td>No</td>\n",
       "      <td>NaN</td>\n",
       "      <td>0.0</td>\n",
       "      <td>0.0</td>\n",
       "      <td>[]</td>\n",
       "      <td>2.0</td>\n",
       "    </tr>\n",
       "    <tr>\n",
       "      <th>3</th>\n",
       "      <td>227.0</td>\n",
       "      <td>Code style problems</td>\n",
       "      <td>Code style problems</td>\n",
       "      <td>Fix rolling mean example code in Statistics docs</td>\n",
       "      <td>[]</td>\n",
       "      <td>Yes</td>\n",
       "      <td>09:33:03</td>\n",
       "      <td>1.0</td>\n",
       "      <td>0.0</td>\n",
       "      <td>[]</td>\n",
       "      <td>3.0</td>\n",
       "    </tr>\n",
       "    <tr>\n",
       "      <th>4</th>\n",
       "      <td>226.0</td>\n",
       "      <td>Functional bugs</td>\n",
       "      <td>Functional bugs</td>\n",
       "      <td>Extract commons value.</td>\n",
       "      <td>['This loop is a bug. There should not be two ...</td>\n",
       "      <td>No</td>\n",
       "      <td>NaN</td>\n",
       "      <td>1.0</td>\n",
       "      <td>1.0</td>\n",
       "      <td>['']</td>\n",
       "      <td>54.0</td>\n",
       "    </tr>\n",
       "  </tbody>\n",
       "</table>\n",
       "</div>"
      ],
      "text/plain": [
       "   Pull Request Number      Label by Melika       Label by Milad  \\\n",
       "0                230.0   Performance issues  Code style problems   \n",
       "1                229.0      Security issues      Security issues   \n",
       "2                228.0  Code style problems  Code style problems   \n",
       "3                227.0  Code style problems  Code style problems   \n",
       "4                226.0      Functional bugs      Functional bugs   \n",
       "\n",
       "                                               Title  \\\n",
       "0  MATH-1654: optimize Array2DRowRealMatrix getEntry   \n",
       "1                          Updated copyright to 2023   \n",
       "2                            [docs]: fix small error   \n",
       "3   Fix rolling mean example code in Statistics docs   \n",
       "4                             Extract commons value.   \n",
       "\n",
       "                                    Comment Messages Merged   Time to Merge  \\\n",
       "0                                                 []    Yes  1 day, 2:46:51   \n",
       "1                                                 []     No             NaN   \n",
       "2                                                 []     No             NaN   \n",
       "3                                                 []    Yes        09:33:03   \n",
       "4  ['This loop is a bug. There should not be two ...     No             NaN   \n",
       "\n",
       "   Comments  Review Comments Review Messages  Lines of Code Changed  \n",
       "0       0.0              0.0              []                   10.0  \n",
       "1       0.0              0.0              []                    2.0  \n",
       "2       0.0              0.0              []                    2.0  \n",
       "3       1.0              0.0              []                    3.0  \n",
       "4       1.0              1.0            ['']                   54.0  "
      ]
     },
     "execution_count": 20,
     "metadata": {},
     "output_type": "execute_result"
    }
   ],
   "source": [
    "#df_commons_math.dropna(inplace=True)\n",
    "df_commons_math.head()"
   ]
  },
  {
   "cell_type": "code",
   "execution_count": 21,
   "id": "d36eb674",
   "metadata": {},
   "outputs": [
    {
     "data": {
      "text/plain": [
       "Code style problems    34\n",
       "Performance issues     33\n",
       "Missing tests          15\n",
       "Functional bugs        10\n",
       "Security issues         7\n",
       "Name: Label by Melika, dtype: int64"
      ]
     },
     "execution_count": 21,
     "metadata": {},
     "output_type": "execute_result"
    }
   ],
   "source": [
    "# 'Code style problems' 'Missing tests' 'Performance issues' 'Functional bugs' 'Security issues'\n",
    "df_commons_math['Label by Melika'].value_counts()"
   ]
  },
  {
   "cell_type": "code",
   "execution_count": 22,
   "id": "a3fbc8c4",
   "metadata": {},
   "outputs": [
    {
     "data": {
      "text/plain": [
       "Code style problems    52\n",
       "Functional bugs        14\n",
       "Performance issues     14\n",
       "Missing tests          13\n",
       "Security issues         6\n",
       "Name: Label by Milad, dtype: int64"
      ]
     },
     "execution_count": 22,
     "metadata": {},
     "output_type": "execute_result"
    }
   ],
   "source": [
    "df_commons_math['Label by Milad'].value_counts()"
   ]
  },
  {
   "cell_type": "code",
   "execution_count": 23,
   "id": "c483e7c4",
   "metadata": {},
   "outputs": [
    {
     "data": {
      "text/plain": [
       "Performance issues     39\n",
       "Code style problems    28\n",
       "Security issues        22\n",
       "Missing tests           4\n",
       "Functional bugs         4\n",
       "Perfomance issues       2\n",
       "Name: Label by Melika, dtype: int64"
      ]
     },
     "execution_count": 23,
     "metadata": {},
     "output_type": "execute_result"
    }
   ],
   "source": [
    "df_commons_lang['Label by Melika'].value_counts()"
   ]
  },
  {
   "cell_type": "code",
   "execution_count": 24,
   "id": "0e12674f",
   "metadata": {},
   "outputs": [
    {
     "data": {
      "text/plain": [
       "Performance issues     52\n",
       "Code style problems    20\n",
       "Functional bugs        10\n",
       "Security issues        10\n",
       "Missing tests           5\n",
       "Perfomance issues       2\n",
       "Name: Label by Milad, dtype: int64"
      ]
     },
     "execution_count": 24,
     "metadata": {},
     "output_type": "execute_result"
    }
   ],
   "source": [
    "df_commons_lang['Label by Milad'].value_counts()"
   ]
  },
  {
   "cell_type": "code",
   "execution_count": 25,
   "id": "cbb0f84e",
   "metadata": {},
   "outputs": [
    {
     "data": {
      "text/plain": [
       "Performance issues     62\n",
       "Security issues        24\n",
       "Code style problems    11\n",
       "Functional bugs         2\n",
       "Name: Label by Melika, dtype: int64"
      ]
     },
     "execution_count": 25,
     "metadata": {},
     "output_type": "execute_result"
    }
   ],
   "source": [
    "df_commons_configuration['Label by Melika'].value_counts()"
   ]
  },
  {
   "cell_type": "code",
   "execution_count": 15,
   "id": "1d64d230",
   "metadata": {},
   "outputs": [
    {
     "data": {
      "text/plain": [
       "Performance issues     74\n",
       "Code style problems    16\n",
       "Functional bugs         6\n",
       "Security issues         3\n",
       "Name: Label by Milad, dtype: int64"
      ]
     },
     "execution_count": 15,
     "metadata": {},
     "output_type": "execute_result"
    }
   ],
   "source": [
    "df_commons_configuration['Label by Milad'].value_counts()"
   ]
  },
  {
   "cell_type": "code",
   "execution_count": null,
   "id": "fea47b95",
   "metadata": {},
   "outputs": [],
   "source": []
  }
 ],
 "metadata": {
  "kernelspec": {
   "display_name": "Python 3 (ipykernel)",
   "language": "python",
   "name": "python3"
  },
  "language_info": {
   "codemirror_mode": {
    "name": "ipython",
    "version": 3
   },
   "file_extension": ".py",
   "mimetype": "text/x-python",
   "name": "python",
   "nbconvert_exporter": "python",
   "pygments_lexer": "ipython3",
   "version": "3.10.4"
  }
 },
 "nbformat": 4,
 "nbformat_minor": 5
}
